{
 "cells": [
  {
   "cell_type": "code",
   "execution_count": 1,
   "metadata": {},
   "outputs": [
    {
     "data": {
      "text/plain": [
       "True"
      ]
     },
     "execution_count": 1,
     "metadata": {},
     "output_type": "execute_result"
    }
   ],
   "source": [
    "import os\n",
    "\n",
    "from dotenv import load_dotenv\n",
    "\n",
    "import dcex\n",
    "\n",
    "load_dotenv()"
   ]
  },
  {
   "cell_type": "code",
   "execution_count": 2,
   "metadata": {},
   "outputs": [],
   "source": [
    "OKX_API_KEY = os.getenv(\"OKX_API_KEY\")\n",
    "OKX_API_SECRET = os.getenv(\"OKX_API_SECRET\")\n",
    "OKX_PASSPHRASE = os.getenv(\"OKX_PASSPHRASE\")\n",
    "\n",
    "\n",
    "client = dcex.okx(\n",
    "    api_key=OKX_API_KEY,\n",
    "    api_secret=OKX_API_SECRET,\n",
    "    passphrase=OKX_PASSPHRASE,\n",
    ")"
   ]
  },
  {
   "cell_type": "markdown",
   "metadata": {},
   "source": [
    "## account http\n"
   ]
  },
  {
   "cell_type": "code",
   "execution_count": 3,
   "metadata": {},
   "outputs": [
    {
     "data": {
      "text/plain": [
       "{'code': '0',\n",
       " 'data': [{'ccy': 'BTC',\n",
       "   'interestRate': '0.00000115',\n",
       "   'nextEstRate': '',\n",
       "   'ts': ''},\n",
       "  {'ccy': 'ETH', 'interestRate': '0.00000286', 'nextEstRate': '', 'ts': ''},\n",
       "  {'ccy': 'OKB', 'interestRate': '0.00000115', 'nextEstRate': '', 'ts': ''},\n",
       "  {'ccy': 'SOL', 'interestRate': '0.00000628', 'nextEstRate': '', 'ts': ''},\n",
       "  {'ccy': 'DOGE', 'interestRate': '0.00000115', 'nextEstRate': '', 'ts': ''},\n",
       "  {'ccy': 'XRP', 'interestRate': '0.00000115', 'nextEstRate': '', 'ts': ''},\n",
       "  {'ccy': 'BCH', 'interestRate': '0.00000115', 'nextEstRate': '', 'ts': ''},\n",
       "  {'ccy': 'PUMP', 'interestRate': '0.00001142', 'nextEstRate': '', 'ts': ''},\n",
       "  {'ccy': 'WLFI', 'interestRate': '0.00000115', 'nextEstRate': '', 'ts': ''},\n",
       "  {'ccy': 'LINEA', 'interestRate': '0.00000115', 'nextEstRate': '', 'ts': ''},\n",
       "  {'ccy': '1INCH', 'interestRate': '0.00000115', 'nextEstRate': '', 'ts': ''},\n",
       "  {'ccy': 'A', 'interestRate': '0.00000115', 'nextEstRate': '', 'ts': ''},\n",
       "  {'ccy': 'AAVE', 'interestRate': '0.00000115', 'nextEstRate': '', 'ts': ''},\n",
       "  {'ccy': 'ACE', 'interestRate': '0.00000115', 'nextEstRate': '', 'ts': ''},\n",
       "  {'ccy': 'ACH', 'interestRate': '0.00000115', 'nextEstRate': '', 'ts': ''},\n",
       "  {'ccy': 'ACT', 'interestRate': '0.00000115', 'nextEstRate': '', 'ts': ''},\n",
       "  {'ccy': 'ADA', 'interestRate': '0.00000115', 'nextEstRate': '', 'ts': ''},\n",
       "  {'ccy': 'AEVO', 'interestRate': '0.00000115', 'nextEstRate': '', 'ts': ''},\n",
       "  {'ccy': 'AGLD', 'interestRate': '0.00000115', 'nextEstRate': '', 'ts': ''},\n",
       "  {'ccy': 'ALGO', 'interestRate': '0.00000115', 'nextEstRate': '', 'ts': ''},\n",
       "  {'ccy': 'ANIME', 'interestRate': '0.00000115', 'nextEstRate': '', 'ts': ''},\n",
       "  {'ccy': 'APE', 'interestRate': '0.00000115', 'nextEstRate': '', 'ts': ''},\n",
       "  {'ccy': 'API3', 'interestRate': '0.00005708', 'nextEstRate': '', 'ts': ''},\n",
       "  {'ccy': 'APT', 'interestRate': '0.00004681', 'nextEstRate': '', 'ts': ''},\n",
       "  {'ccy': 'AR', 'interestRate': '0.00000115', 'nextEstRate': '', 'ts': ''},\n",
       "  {'ccy': 'ARB', 'interestRate': '0.00000115', 'nextEstRate': '', 'ts': ''},\n",
       "  {'ccy': 'ARKM', 'interestRate': '0.00000115', 'nextEstRate': '', 'ts': ''},\n",
       "  {'ccy': 'ATH', 'interestRate': '0.00001142', 'nextEstRate': '', 'ts': ''},\n",
       "  {'ccy': 'ATOM', 'interestRate': '0.00005137', 'nextEstRate': '', 'ts': ''},\n",
       "  {'ccy': 'AUCTION',\n",
       "   'interestRate': '0.00000115',\n",
       "   'nextEstRate': '',\n",
       "   'ts': ''},\n",
       "  {'ccy': 'AVAX', 'interestRate': '0.00000115', 'nextEstRate': '', 'ts': ''},\n",
       "  {'ccy': 'AVNT', 'interestRate': '0.00000115', 'nextEstRate': '', 'ts': ''},\n",
       "  {'ccy': 'AXS', 'interestRate': '0.00000571', 'nextEstRate': '', 'ts': ''},\n",
       "  {'ccy': 'BABY', 'interestRate': '0.00001142', 'nextEstRate': '', 'ts': ''},\n",
       "  {'ccy': 'BARD', 'interestRate': '0.00000115', 'nextEstRate': '', 'ts': ''},\n",
       "  {'ccy': 'BAT', 'interestRate': '0.00000115', 'nextEstRate': '', 'ts': ''},\n",
       "  {'ccy': 'BERA', 'interestRate': '0.00005252', 'nextEstRate': '', 'ts': ''},\n",
       "  {'ccy': 'BETH', 'interestRate': '0.00041667', 'nextEstRate': '', 'ts': ''},\n",
       "  {'ccy': 'BICO', 'interestRate': '0.00000115', 'nextEstRate': '', 'ts': ''},\n",
       "  {'ccy': 'BIGTIME',\n",
       "   'interestRate': '0.00006622',\n",
       "   'nextEstRate': '',\n",
       "   'ts': ''},\n",
       "  {'ccy': 'BIO', 'interestRate': '0.00011644', 'nextEstRate': '', 'ts': ''},\n",
       "  {'ccy': 'BLUR', 'interestRate': '0.00000115', 'nextEstRate': '', 'ts': ''},\n",
       "  {'ccy': 'BNB', 'interestRate': '0.00000115', 'nextEstRate': '', 'ts': ''},\n",
       "  {'ccy': 'BNT', 'interestRate': '0.00007306', 'nextEstRate': '', 'ts': ''},\n",
       "  {'ccy': 'BOME', 'interestRate': '0.00000115', 'nextEstRate': '', 'ts': ''},\n",
       "  {'ccy': 'BONK', 'interestRate': '0.00000115', 'nextEstRate': '', 'ts': ''},\n",
       "  {'ccy': 'CELO', 'interestRate': '0.00000571', 'nextEstRate': '', 'ts': ''},\n",
       "  {'ccy': 'CETUS', 'interestRate': '0.00000115', 'nextEstRate': '', 'ts': ''},\n",
       "  {'ccy': 'CFX', 'interestRate': '0.00000115', 'nextEstRate': '', 'ts': ''},\n",
       "  {'ccy': 'CHZ', 'interestRate': '0.00000229', 'nextEstRate': '', 'ts': ''},\n",
       "  {'ccy': 'COMP', 'interestRate': '0.00000115', 'nextEstRate': '', 'ts': ''},\n",
       "  {'ccy': 'CORE', 'interestRate': '0.00000914', 'nextEstRate': '', 'ts': ''},\n",
       "  {'ccy': 'CRO', 'interestRate': '0.00000115', 'nextEstRate': '', 'ts': ''},\n",
       "  {'ccy': 'CRV', 'interestRate': '0.00000115', 'nextEstRate': '', 'ts': ''},\n",
       "  {'ccy': 'CVC', 'interestRate': '0.00000571', 'nextEstRate': '', 'ts': ''},\n",
       "  {'ccy': 'CVX', 'interestRate': '0.00000115', 'nextEstRate': '', 'ts': ''},\n",
       "  {'ccy': 'DEGEN', 'interestRate': '0.00000115', 'nextEstRate': '', 'ts': ''},\n",
       "  {'ccy': 'DOGS', 'interestRate': '0.00000115', 'nextEstRate': '', 'ts': ''},\n",
       "  {'ccy': 'DOT', 'interestRate': '0.00000343', 'nextEstRate': '', 'ts': ''},\n",
       "  {'ccy': 'DYDX', 'interestRate': '0.00000115', 'nextEstRate': '', 'ts': ''},\n",
       "  {'ccy': 'EGLD', 'interestRate': '0.00000115', 'nextEstRate': '', 'ts': ''},\n",
       "  {'ccy': 'EIGEN', 'interestRate': '0.00000115', 'nextEstRate': '', 'ts': ''},\n",
       "  {'ccy': 'ENA', 'interestRate': '0.00000115', 'nextEstRate': '', 'ts': ''},\n",
       "  {'ccy': 'ENJ', 'interestRate': '0.00000115', 'nextEstRate': '', 'ts': ''},\n",
       "  {'ccy': 'ENS', 'interestRate': '0.00000115', 'nextEstRate': '', 'ts': ''},\n",
       "  {'ccy': 'ETC', 'interestRate': '0.00000115', 'nextEstRate': '', 'ts': ''},\n",
       "  {'ccy': 'ETHW', 'interestRate': '0.00000115', 'nextEstRate': '', 'ts': ''},\n",
       "  {'ccy': 'ETHFI', 'interestRate': '0.00000115', 'nextEstRate': '', 'ts': ''},\n",
       "  {'ccy': 'FIL', 'interestRate': '0.00000115', 'nextEstRate': '', 'ts': ''},\n",
       "  {'ccy': 'FLOW', 'interestRate': '0.00000115', 'nextEstRate': '', 'ts': ''},\n",
       "  {'ccy': 'FLOKI', 'interestRate': '0.00000115', 'nextEstRate': '', 'ts': ''},\n",
       "  {'ccy': 'FLR', 'interestRate': '0.00000571', 'nextEstRate': '', 'ts': ''},\n",
       "  {'ccy': 'GALA', 'interestRate': '0.00000115', 'nextEstRate': '', 'ts': ''},\n",
       "  {'ccy': 'GAS', 'interestRate': '0.00000115', 'nextEstRate': '', 'ts': ''},\n",
       "  {'ccy': 'GMT', 'interestRate': '0.00000115', 'nextEstRate': '', 'ts': ''},\n",
       "  {'ccy': 'GMX', 'interestRate': '0.00000115', 'nextEstRate': '', 'ts': ''},\n",
       "  {'ccy': 'GRT', 'interestRate': '0.00000115', 'nextEstRate': '', 'ts': ''},\n",
       "  {'ccy': 'HBAR', 'interestRate': '0.00006622', 'nextEstRate': '', 'ts': ''},\n",
       "  {'ccy': 'HMSTR', 'interestRate': '0.00000115', 'nextEstRate': '', 'ts': ''},\n",
       "  {'ccy': 'HUMA', 'interestRate': '0.00000115', 'nextEstRate': '', 'ts': ''},\n",
       "  {'ccy': 'ICP', 'interestRate': '0.00000115', 'nextEstRate': '', 'ts': ''},\n",
       "  {'ccy': 'IMX', 'interestRate': '0.00001142', 'nextEstRate': '', 'ts': ''},\n",
       "  {'ccy': 'INJ', 'interestRate': '0.00000115', 'nextEstRate': '', 'ts': ''},\n",
       "  {'ccy': 'IOST', 'interestRate': '0.00000115', 'nextEstRate': '', 'ts': ''},\n",
       "  {'ccy': 'IOTA', 'interestRate': '0.00000914', 'nextEstRate': '', 'ts': ''},\n",
       "  {'ccy': 'IP', 'interestRate': '0.00013927', 'nextEstRate': '', 'ts': ''},\n",
       "  {'ccy': 'JTO', 'interestRate': '0.00000115', 'nextEstRate': '', 'ts': ''},\n",
       "  {'ccy': 'JUP', 'interestRate': '0.00008676', 'nextEstRate': '', 'ts': ''},\n",
       "  {'ccy': 'KAITO', 'interestRate': '0.0000879', 'nextEstRate': '', 'ts': ''},\n",
       "  {'ccy': 'KMNO', 'interestRate': '0.00000115', 'nextEstRate': '', 'ts': ''},\n",
       "  {'ccy': 'KSM', 'interestRate': '0.00000571', 'nextEstRate': '', 'ts': ''},\n",
       "  {'ccy': 'LAYER', 'interestRate': '0.00000115', 'nextEstRate': '', 'ts': ''},\n",
       "  {'ccy': 'LDO', 'interestRate': '0.00000115', 'nextEstRate': '', 'ts': ''},\n",
       "  {'ccy': 'LINK', 'interestRate': '0.00000115', 'nextEstRate': '', 'ts': ''},\n",
       "  {'ccy': 'LPT', 'interestRate': '0.00000571', 'nextEstRate': '', 'ts': ''},\n",
       "  {'ccy': 'LQTY', 'interestRate': '0.00000115', 'nextEstRate': '', 'ts': ''},\n",
       "  {'ccy': 'LRC', 'interestRate': '0.00000115', 'nextEstRate': '', 'ts': ''},\n",
       "  {'ccy': 'LTC', 'interestRate': '0.00000115', 'nextEstRate': '', 'ts': ''},\n",
       "  {'ccy': 'LUNA', 'interestRate': '0.00000115', 'nextEstRate': '', 'ts': ''},\n",
       "  {'ccy': 'MAGIC', 'interestRate': '0.00000115', 'nextEstRate': '', 'ts': ''},\n",
       "  {'ccy': 'MANA', 'interestRate': '0.00000115', 'nextEstRate': '', 'ts': ''},\n",
       "  {'ccy': 'MASK', 'interestRate': '0.00000115', 'nextEstRate': '', 'ts': ''},\n",
       "  {'ccy': 'ME', 'interestRate': '0.00016439', 'nextEstRate': '', 'ts': ''},\n",
       "  {'ccy': 'MERL', 'interestRate': '0.00000115', 'nextEstRate': '', 'ts': ''},\n",
       "  {'ccy': 'MEW', 'interestRate': '0.00002854', 'nextEstRate': '', 'ts': ''},\n",
       "  {'ccy': 'MINA', 'interestRate': '0.00000115', 'nextEstRate': '', 'ts': ''},\n",
       "  {'ccy': 'MOODENG',\n",
       "   'interestRate': '0.00000571',\n",
       "   'nextEstRate': '',\n",
       "   'ts': ''},\n",
       "  {'ccy': 'MORPHO', 'interestRate': '0.00002284', 'nextEstRate': '', 'ts': ''},\n",
       "  {'ccy': 'MOVE', 'interestRate': '0.00005366', 'nextEstRate': '', 'ts': ''},\n",
       "  {'ccy': 'NEAR', 'interestRate': '0.00000115', 'nextEstRate': '', 'ts': ''},\n",
       "  {'ccy': 'NEIRO', 'interestRate': '0.00000115', 'nextEstRate': '', 'ts': ''},\n",
       "  {'ccy': 'NEO', 'interestRate': '0.00000229', 'nextEstRate': '', 'ts': ''},\n",
       "  {'ccy': 'NOT', 'interestRate': '0.00000115', 'nextEstRate': '', 'ts': ''},\n",
       "  {'ccy': 'OM', 'interestRate': '0.00000115', 'nextEstRate': '', 'ts': ''},\n",
       "  {'ccy': 'ONDO', 'interestRate': '0.00000115', 'nextEstRate': '', 'ts': ''},\n",
       "  {'ccy': 'ONE', 'interestRate': '0.00000115', 'nextEstRate': '', 'ts': ''},\n",
       "  {'ccy': 'ONT', 'interestRate': '0.00000115', 'nextEstRate': '', 'ts': ''},\n",
       "  {'ccy': 'OP', 'interestRate': '0.00000115', 'nextEstRate': '', 'ts': ''},\n",
       "  {'ccy': 'ORDI', 'interestRate': '0.00000115', 'nextEstRate': '', 'ts': ''},\n",
       "  {'ccy': 'PARTI', 'interestRate': '0.00017923', 'nextEstRate': '', 'ts': ''},\n",
       "  {'ccy': 'PENGU', 'interestRate': '0.00000115', 'nextEstRate': '', 'ts': ''},\n",
       "  {'ccy': 'PEOPLE', 'interestRate': '0.00000115', 'nextEstRate': '', 'ts': ''},\n",
       "  {'ccy': 'PEPE', 'interestRate': '0.00000115', 'nextEstRate': '', 'ts': ''},\n",
       "  {'ccy': 'PI', 'interestRate': '0.00000115', 'nextEstRate': '', 'ts': ''},\n",
       "  {'ccy': 'PNUT', 'interestRate': '0.00000115', 'nextEstRate': '', 'ts': ''},\n",
       "  {'ccy': 'POL', 'interestRate': '0.00000115', 'nextEstRate': '', 'ts': ''},\n",
       "  {'ccy': 'PROMPT', 'interestRate': '0.00000115', 'nextEstRate': '', 'ts': ''},\n",
       "  {'ccy': 'PYTH', 'interestRate': '0.00000115', 'nextEstRate': '', 'ts': ''},\n",
       "  {'ccy': 'QTUM', 'interestRate': '0.00000115', 'nextEstRate': '', 'ts': ''},\n",
       "  {'ccy': 'RAY', 'interestRate': '0.00000115', 'nextEstRate': '', 'ts': ''},\n",
       "  {'ccy': 'RENDER', 'interestRate': '0.00000115', 'nextEstRate': '', 'ts': ''},\n",
       "  {'ccy': 'RESOLV', 'interestRate': '0.00005708', 'nextEstRate': '', 'ts': ''},\n",
       "  {'ccy': 'RSR', 'interestRate': '0.00000115', 'nextEstRate': '', 'ts': ''},\n",
       "  {'ccy': 'S', 'interestRate': '0.00000115', 'nextEstRate': '', 'ts': ''},\n",
       "  {'ccy': 'SAHARA', 'interestRate': '0.00000115', 'nextEstRate': '', 'ts': ''},\n",
       "  {'ccy': 'SAND', 'interestRate': '0.00000115', 'nextEstRate': '', 'ts': ''},\n",
       "  {'ccy': 'SATS', 'interestRate': '0.00000115', 'nextEstRate': '', 'ts': ''},\n",
       "  {'ccy': 'SHIB', 'interestRate': '0.00000115', 'nextEstRate': '', 'ts': ''},\n",
       "  {'ccy': 'SKY', 'interestRate': '0.00000115', 'nextEstRate': '', 'ts': ''},\n",
       "  {'ccy': 'SNX', 'interestRate': '0.00000115', 'nextEstRate': '', 'ts': ''},\n",
       "  {'ccy': 'SONIC', 'interestRate': '0.00002284', 'nextEstRate': '', 'ts': ''},\n",
       "  {'ccy': 'SOPH', 'interestRate': '0.00000229', 'nextEstRate': '', 'ts': ''},\n",
       "  {'ccy': 'SPK', 'interestRate': '0.00005708', 'nextEstRate': '', 'ts': ''},\n",
       "  {'ccy': 'SSV', 'interestRate': '0.00000115', 'nextEstRate': '', 'ts': ''},\n",
       "  {'ccy': 'STRK', 'interestRate': '0.00000115', 'nextEstRate': '', 'ts': ''},\n",
       "  {'ccy': 'STX', 'interestRate': '0.00000115', 'nextEstRate': '', 'ts': ''},\n",
       "  {'ccy': 'SUI', 'interestRate': '0.00000115', 'nextEstRate': '', 'ts': ''},\n",
       "  {'ccy': 'SUSHI', 'interestRate': '0.00000115', 'nextEstRate': '', 'ts': ''},\n",
       "  {'ccy': 'THETA', 'interestRate': '0.00000115', 'nextEstRate': '', 'ts': ''},\n",
       "  {'ccy': 'TIA', 'interestRate': '0.00000229', 'nextEstRate': '', 'ts': ''},\n",
       "  {'ccy': 'TON', 'interestRate': '0.00000115', 'nextEstRate': '', 'ts': ''},\n",
       "  {'ccy': 'TRB', 'interestRate': '0.00000115', 'nextEstRate': '', 'ts': ''},\n",
       "  {'ccy': 'TRUMP', 'interestRate': '0.00000115', 'nextEstRate': '', 'ts': ''},\n",
       "  {'ccy': 'TRX', 'interestRate': '0.00001028', 'nextEstRate': '', 'ts': ''},\n",
       "  {'ccy': 'TURBO', 'interestRate': '0.00000115', 'nextEstRate': '', 'ts': ''},\n",
       "  {'ccy': 'UMA', 'interestRate': '0.00001142', 'nextEstRate': '', 'ts': ''},\n",
       "  {'ccy': 'UNI', 'interestRate': '0.00000115', 'nextEstRate': '', 'ts': ''},\n",
       "  {'ccy': 'USDT', 'interestRate': '0.00000343', 'nextEstRate': '', 'ts': ''},\n",
       "  {'ccy': 'USDC', 'interestRate': '0.00000343', 'nextEstRate': '', 'ts': ''},\n",
       "  {'ccy': 'W', 'interestRate': '0.00000115', 'nextEstRate': '', 'ts': ''},\n",
       "  {'ccy': 'WCT', 'interestRate': '0.000008', 'nextEstRate': '', 'ts': ''},\n",
       "  {'ccy': 'WIF', 'interestRate': '0.00000115', 'nextEstRate': '', 'ts': ''},\n",
       "  {'ccy': 'WLD', 'interestRate': '0.00000115', 'nextEstRate': '', 'ts': ''},\n",
       "  {'ccy': 'WOO', 'interestRate': '0.00000115', 'nextEstRate': '', 'ts': ''},\n",
       "  {'ccy': 'XAUT', 'interestRate': '0.00000115', 'nextEstRate': '', 'ts': ''},\n",
       "  {'ccy': 'XLM', 'interestRate': '0.00000115', 'nextEstRate': '', 'ts': ''},\n",
       "  {'ccy': 'XPL', 'interestRate': '0.00000115', 'nextEstRate': '', 'ts': ''},\n",
       "  {'ccy': 'XTZ', 'interestRate': '0.00000571', 'nextEstRate': '', 'ts': ''},\n",
       "  {'ccy': 'YB', 'interestRate': '0.00000115', 'nextEstRate': '', 'ts': ''},\n",
       "  {'ccy': 'YFI', 'interestRate': '0.00000571', 'nextEstRate': '', 'ts': ''},\n",
       "  {'ccy': 'YGG', 'interestRate': '0.00001142', 'nextEstRate': '', 'ts': ''},\n",
       "  {'ccy': 'ZENT', 'interestRate': '0.00000115', 'nextEstRate': '', 'ts': ''},\n",
       "  {'ccy': 'ZETA', 'interestRate': '0.00002969', 'nextEstRate': '', 'ts': ''},\n",
       "  {'ccy': 'ZIL', 'interestRate': '0.00000115', 'nextEstRate': '', 'ts': ''},\n",
       "  {'ccy': 'ZK', 'interestRate': '0.00000115', 'nextEstRate': '', 'ts': ''},\n",
       "  {'ccy': 'ZRO', 'interestRate': '0.00000115', 'nextEstRate': '', 'ts': ''},\n",
       "  {'ccy': 'ZRX', 'interestRate': '0.00000115', 'nextEstRate': '', 'ts': ''}],\n",
       " 'msg': ''}"
      ]
     },
     "execution_count": 3,
     "metadata": {},
     "output_type": "execute_result"
    }
   ],
   "source": [
    "client.get_interest_rate()"
   ]
  },
  {
   "cell_type": "code",
   "execution_count": 4,
   "metadata": {},
   "outputs": [
    {
     "data": {
      "text/plain": [
       "{'code': '0', 'data': [], 'msg': ''}"
      ]
     },
     "execution_count": 4,
     "metadata": {},
     "output_type": "execute_result"
    }
   ],
   "source": [
    "client.get_positions(product_symbol=\"BTC-USDT-SWAP\")"
   ]
  },
  {
   "cell_type": "code",
   "execution_count": null,
   "metadata": {},
   "outputs": [],
   "source": [
    "client.set_auto_loan(autoLoan=\"true\")"
   ]
  },
  {
   "cell_type": "markdown",
   "metadata": {},
   "source": [
    "## asset http\n"
   ]
  },
  {
   "cell_type": "code",
   "execution_count": 8,
   "metadata": {},
   "outputs": [
    {
     "data": {
      "text/plain": [
       "{'code': '0',\n",
       " 'data': [{'amt': '1',\n",
       "   'ccy': 'USDT',\n",
       "   'clientId': '',\n",
       "   'from': '6',\n",
       "   'to': '18',\n",
       "   'transId': '1428038153'}],\n",
       " 'msg': ''}"
      ]
     },
     "execution_count": 8,
     "metadata": {},
     "output_type": "execute_result"
    }
   ],
   "source": [
    "client.funds_transfer(\n",
    "    ccy=\"USDT\",\n",
    "    amt=\"1\",\n",
    "    from_account=\"FUND\",\n",
    "    to_account=\"TRADING\",\n",
    ")"
   ]
  },
  {
   "cell_type": "code",
   "execution_count": null,
   "metadata": {},
   "outputs": [],
   "source": [
    "client.get_transfer_state(transId=\"1187125205\")"
   ]
  },
  {
   "cell_type": "code",
   "execution_count": null,
   "metadata": {},
   "outputs": [
    {
     "data": {
      "text/plain": [
       "{'code': '0',\n",
       " 'data': [{'amt': '1',\n",
       "   'ccy': 'USDT',\n",
       "   'chain': 'USDT-Aptos',\n",
       "   'clientId': '',\n",
       "   'wdId': '298527196'}],\n",
       " 'msg': ''}"
      ]
     },
     "execution_count": 8,
     "metadata": {},
     "output_type": "execute_result"
    }
   ],
   "source": [
    "client.withdrawal(\n",
    "    ccy=\"USDT\",\n",
    "    amt=\"1\",\n",
    "    dest=\"4\",\n",
    "    chain=\"USDT-Aptos\",\n",
    "    toAddr=\"0x\",\n",
    ")"
   ]
  },
  {
   "cell_type": "code",
   "execution_count": 9,
   "metadata": {},
   "outputs": [
    {
     "data": {
      "text/plain": [
       "{'code': '0',\n",
       " 'data': [{'estCompleteTime': '04/26/2025, 8:04:27 AM',\n",
       "   'state': 'Pending withdrawal',\n",
       "   'txId': '',\n",
       "   'wdId': '298527196'}],\n",
       " 'msg': ''}"
      ]
     },
     "execution_count": 9,
     "metadata": {},
     "output_type": "execute_result"
    }
   ],
   "source": [
    "client.get_deposit_withdraw_status(wdId=\"298527196\")"
   ]
  },
  {
   "cell_type": "code",
   "execution_count": 10,
   "metadata": {},
   "outputs": [
    {
     "data": {
      "text/plain": [
       "{'code': '0', 'data': [{'wdId': '298527196'}], 'msg': ''}"
      ]
     },
     "execution_count": 10,
     "metadata": {},
     "output_type": "execute_result"
    }
   ],
   "source": [
    "client.cancel_withdrawal(wdId=\"298527196\")"
   ]
  },
  {
   "cell_type": "markdown",
   "metadata": {},
   "source": [
    "## trade http\n"
   ]
  },
  {
   "cell_type": "code",
   "execution_count": 9,
   "metadata": {},
   "outputs": [
    {
     "data": {
      "text/plain": [
       "{'code': '0',\n",
       " 'data': [{'clOrdId': '',\n",
       "   'ordId': '2991124541076971520',\n",
       "   'sCode': '0',\n",
       "   'sMsg': 'Order placed',\n",
       "   'tag': '',\n",
       "   'ts': '1761644857874'}],\n",
       " 'inTime': '1761644857873098',\n",
       " 'msg': '',\n",
       " 'outTime': '1761644857874569'}"
      ]
     },
     "execution_count": 9,
     "metadata": {},
     "output_type": "execute_result"
    }
   ],
   "source": [
    "client.place_market_buy_order(\n",
    "    product_symbol=\"BTC-USDT-SPOT\",\n",
    "    tdMode=\"cash\",\n",
    "    sz=\"2\",\n",
    ")"
   ]
  },
  {
   "cell_type": "code",
   "execution_count": 16,
   "metadata": {},
   "outputs": [
    {
     "data": {
      "text/plain": [
       "{'code': '0',\n",
       " 'data': [{'clOrdId': '',\n",
       "   'ordId': '2991131294913044480',\n",
       "   'sCode': '0',\n",
       "   'sMsg': 'Order placed',\n",
       "   'tag': '',\n",
       "   'ts': '1761645059154'}],\n",
       " 'inTime': '1761645059153165',\n",
       " 'msg': '',\n",
       " 'outTime': '1761645059155112'}"
      ]
     },
     "execution_count": 16,
     "metadata": {},
     "output_type": "execute_result"
    }
   ],
   "source": [
    "client.place_market_sell_order(\n",
    "    product_symbol=\"BTC-USDT-SPOT\",\n",
    "    tdMode=\"cash\",\n",
    "    sz=\"0.00001745\",\n",
    ")"
   ]
  },
  {
   "cell_type": "code",
   "execution_count": 17,
   "metadata": {},
   "outputs": [
    {
     "data": {
      "text/plain": [
       "{'code': '0',\n",
       " 'data': [{'clOrdId': '',\n",
       "   'ordId': '2991066220219375616',\n",
       "   'sCode': '0',\n",
       "   'sMsg': 'Order placed',\n",
       "   'tag': '',\n",
       "   'ts': '1761643119777'}],\n",
       " 'inTime': '1761643119776832',\n",
       " 'msg': '',\n",
       " 'outTime': '1761643119778354'}"
      ]
     },
     "execution_count": 17,
     "metadata": {},
     "output_type": "execute_result"
    }
   ],
   "source": [
    "client.place_limit_buy_order(\n",
    "    product_symbol=\"BTC-USDT-SPOT\",\n",
    "    tdMode=\"cash\",\n",
    "    sz=\"0.00001\",\n",
    "    px=\"80000\",\n",
    ")"
   ]
  },
  {
   "cell_type": "code",
   "execution_count": 10,
   "metadata": {},
   "outputs": [
    {
     "data": {
      "text/plain": [
       "{'code': '0',\n",
       " 'data': [{'clOrdId': '',\n",
       "   'ordId': '2991125952242163712',\n",
       "   'sCode': '0',\n",
       "   'sMsg': 'Order placed',\n",
       "   'tag': '',\n",
       "   'ts': '1761644899930'}],\n",
       " 'inTime': '1761644899929850',\n",
       " 'msg': '',\n",
       " 'outTime': '1761644899931503'}"
      ]
     },
     "execution_count": 10,
     "metadata": {},
     "output_type": "execute_result"
    }
   ],
   "source": [
    "client.place_limit_sell_order(\n",
    "    product_symbol=\"BTC-USDT-SPOT\",\n",
    "    tdMode=\"cash\",\n",
    "    sz=\"0.00001\",\n",
    "    px=\"200000\",\n",
    ")"
   ]
  },
  {
   "cell_type": "code",
   "execution_count": 14,
   "metadata": {},
   "outputs": [
    {
     "data": {
      "text/plain": [
       "{'code': '0',\n",
       " 'data': [{'clOrdId': '',\n",
       "   'ordId': '2991063329203068928',\n",
       "   'sCode': '0',\n",
       "   'sMsg': 'Order placed',\n",
       "   'tag': '',\n",
       "   'ts': '1761643033617'}],\n",
       " 'inTime': '1761643033617265',\n",
       " 'msg': '',\n",
       " 'outTime': '1761643033619047'}"
      ]
     },
     "execution_count": 14,
     "metadata": {},
     "output_type": "execute_result"
    }
   ],
   "source": [
    "client.place_post_only_limit_buy_order(\n",
    "    product_symbol=\"BTC-USDT-SPOT\",\n",
    "    tdMode=\"cash\",\n",
    "    sz=\"0.00001\",\n",
    "    px=\"80000\",\n",
    ")"
   ]
  },
  {
   "cell_type": "code",
   "execution_count": 13,
   "metadata": {},
   "outputs": [
    {
     "data": {
      "text/plain": [
       "{'code': '0',\n",
       " 'data': [{'clOrdId': '',\n",
       "   'ordId': '2991126713726443520',\n",
       "   'sCode': '0',\n",
       "   'sMsg': 'Order placed',\n",
       "   'tag': '',\n",
       "   'ts': '1761644922624'}],\n",
       " 'inTime': '1761644922623500',\n",
       " 'msg': '',\n",
       " 'outTime': '1761644922625190'}"
      ]
     },
     "execution_count": 13,
     "metadata": {},
     "output_type": "execute_result"
    }
   ],
   "source": [
    "client.place_post_only_limit_sell_order(\n",
    "    product_symbol=\"BTC-USDT-SPOT\",\n",
    "    tdMode=\"cash\",\n",
    "    sz=\"0.00001\",\n",
    "    px=\"200000\",\n",
    ")"
   ]
  },
  {
   "cell_type": "code",
   "execution_count": 18,
   "metadata": {},
   "outputs": [
    {
     "data": {
      "text/plain": [
       "{'code': '0',\n",
       " 'data': [{'clOrdId': '',\n",
       "   'ordId': '2991066220219375616',\n",
       "   'sCode': '0',\n",
       "   'sMsg': '',\n",
       "   'ts': '1761643139226'}],\n",
       " 'inTime': '1761643139226050',\n",
       " 'msg': '',\n",
       " 'outTime': '1761643139227461'}"
      ]
     },
     "execution_count": 18,
     "metadata": {},
     "output_type": "execute_result"
    }
   ],
   "source": [
    "client.cancel_order(product_symbol=\"BTC-USDT-SPOT\", ordId=\"2991066220219375616\")"
   ]
  },
  {
   "cell_type": "code",
   "execution_count": 19,
   "metadata": {},
   "outputs": [
    {
     "data": {
      "text/plain": [
       "{'code': '0', 'data': [], 'msg': ''}"
      ]
     },
     "execution_count": 19,
     "metadata": {},
     "output_type": "execute_result"
    }
   ],
   "source": [
    "client.get_order_list()"
   ]
  },
  {
   "cell_type": "code",
   "execution_count": 15,
   "metadata": {},
   "outputs": [
    {
     "data": {
      "text/plain": [
       "{'code': '0',\n",
       " 'data': [{'clOrdId': '',\n",
       "   'ordId': '2991063329203068928',\n",
       "   'sCode': '0',\n",
       "   'sMsg': '',\n",
       "   'ts': '1761643052706'}],\n",
       " 'inTime': '1761643052706114',\n",
       " 'msg': '',\n",
       " 'outTime': '1761643052707130'}"
      ]
     },
     "execution_count": 15,
     "metadata": {},
     "output_type": "execute_result"
    }
   ],
   "source": [
    "client.cancel_all_orders()"
   ]
  },
  {
   "cell_type": "code",
   "execution_count": 20,
   "metadata": {},
   "outputs": [
    {
     "data": {
      "text/plain": [
       "{'code': '0',\n",
       " 'data': [{'accFillSz': '0',\n",
       "   'algoClOrdId': '',\n",
       "   'algoId': '',\n",
       "   'attachAlgoClOrdId': '',\n",
       "   'attachAlgoOrds': [],\n",
       "   'avgPx': '',\n",
       "   'cTime': '1761642532698',\n",
       "   'cancelSource': '1',\n",
       "   'cancelSourceReason': 'Order was canceled by you.',\n",
       "   'category': 'normal',\n",
       "   'ccy': 'USDT',\n",
       "   'clOrdId': '',\n",
       "   'fee': '0',\n",
       "   'feeCcy': 'BTC',\n",
       "   'fillPx': '',\n",
       "   'fillSz': '0',\n",
       "   'fillTime': '',\n",
       "   'instId': 'BTC-USDT',\n",
       "   'instType': 'SPOT',\n",
       "   'isTpLimit': 'false',\n",
       "   'lever': '',\n",
       "   'linkedAlgoOrd': {'algoId': ''},\n",
       "   'ordId': '2991046521116991488',\n",
       "   'ordType': 'limit',\n",
       "   'pnl': '0',\n",
       "   'posSide': 'net',\n",
       "   'px': '80000',\n",
       "   'pxType': '',\n",
       "   'pxUsd': '',\n",
       "   'pxVol': '',\n",
       "   'quickMgnType': '',\n",
       "   'rebate': '0',\n",
       "   'rebateCcy': 'USDT',\n",
       "   'reduceOnly': 'false',\n",
       "   'side': 'buy',\n",
       "   'slOrdPx': '',\n",
       "   'slTriggerPx': '',\n",
       "   'slTriggerPxType': '',\n",
       "   'source': '',\n",
       "   'state': 'canceled',\n",
       "   'stpId': '',\n",
       "   'stpMode': 'cancel_maker',\n",
       "   'sz': '0.00001',\n",
       "   'tag': '',\n",
       "   'tdMode': 'cash',\n",
       "   'tgtCcy': '',\n",
       "   'tpOrdPx': '',\n",
       "   'tpTriggerPx': '',\n",
       "   'tpTriggerPxType': '',\n",
       "   'tradeId': '',\n",
       "   'tradeQuoteCcy': 'USDT',\n",
       "   'uTime': '1761642551555'}],\n",
       " 'msg': ''}"
      ]
     },
     "execution_count": 20,
     "metadata": {},
     "output_type": "execute_result"
    }
   ],
   "source": [
    "client.get_order(\n",
    "    product_symbol=\"BTC-USDT-SPOT\",\n",
    "    ordId=\"2991046521116991488\",\n",
    ")"
   ]
  },
  {
   "cell_type": "code",
   "execution_count": 14,
   "metadata": {},
   "outputs": [
    {
     "data": {
      "text/plain": [
       "{'code': '0',\n",
       " 'data': [{'clOrdId': '',\n",
       "   'ordId': '2991126713726443520',\n",
       "   'reqId': '',\n",
       "   'sCode': '0',\n",
       "   'sMsg': '',\n",
       "   'ts': '1761644948762'}],\n",
       " 'inTime': '1761644948761307',\n",
       " 'msg': '',\n",
       " 'outTime': '1761644948762732'}"
      ]
     },
     "execution_count": 14,
     "metadata": {},
     "output_type": "execute_result"
    }
   ],
   "source": [
    "client.amend_order(product_symbol=\"BTC-USDT-SPOT\", ordId=\"2991126713726443520\", newPx=\"190000\")"
   ]
  },
  {
   "cell_type": "code",
   "execution_count": 19,
   "metadata": {},
   "outputs": [
    {
     "data": {
      "text/plain": [
       "{'code': '0',\n",
       " 'data': [{'clOrdId': '',\n",
       "   'ordId': '2991489131723923456',\n",
       "   'sCode': '0',\n",
       "   'sMsg': 'Order placed',\n",
       "   'tag': '',\n",
       "   'ts': '1761655723522'}],\n",
       " 'inTime': '1761655723521182',\n",
       " 'msg': '',\n",
       " 'outTime': '1761655723522640'}"
      ]
     },
     "execution_count": 19,
     "metadata": {},
     "output_type": "execute_result"
    }
   ],
   "source": [
    "client.place_market_sell_order(\n",
    "    product_symbol=\"DOGE-USDT-SWAP\",\n",
    "    tdMode=\"cross\",\n",
    "    sz=\"0.01\",\n",
    ")"
   ]
  },
  {
   "cell_type": "code",
   "execution_count": 3,
   "metadata": {},
   "outputs": [
    {
     "data": {
      "text/plain": [
       "{'code': '0',\n",
       " 'data': [{'clOrdId': '',\n",
       "   'instId': 'DOGE-USDT-SWAP',\n",
       "   'posSide': 'net',\n",
       "   'tag': ''}],\n",
       " 'msg': ''}"
      ]
     },
     "execution_count": 3,
     "metadata": {},
     "output_type": "execute_result"
    }
   ],
   "source": [
    "client.close_positions(\n",
    "    product_symbol=\"DOGE-USDT-SWAP\",\n",
    "    mgnMode=\"cross\",\n",
    ")"
   ]
  }
 ],
 "metadata": {
  "kernelspec": {
   "display_name": ".venv",
   "language": "python",
   "name": "python3"
  },
  "language_info": {
   "codemirror_mode": {
    "name": "ipython",
    "version": 3
   },
   "file_extension": ".py",
   "mimetype": "text/x-python",
   "name": "python",
   "nbconvert_exporter": "python",
   "pygments_lexer": "ipython3",
   "version": "3.12.11"
  }
 },
 "nbformat": 4,
 "nbformat_minor": 2
}
